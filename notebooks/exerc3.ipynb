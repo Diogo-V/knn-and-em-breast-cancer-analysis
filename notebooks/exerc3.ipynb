{
 "cells": [
  {
   "cell_type": "code",
   "execution_count": null,
   "metadata": {
    "collapsed": true
   },
   "outputs": [],
   "source": [
    "def mlp(n):\n",
    "    inner_layers = 3 * (n * n + n) + n\n",
    "    output_layers = n * 2 + 2\n",
    "    return inner_layers + output_layers\n",
    "\n",
    "\n",
    "def tree(n):\n",
    "    return 3 ** n\n",
    "\n",
    "\n",
    "def bayes(n):\n",
    "    priors = 1\n",
    "    n_vars_input = n\n",
    "    n_params_gauss = n * n + 1  # Covariance matrix plus n_vars in mean vector\n",
    "    pass\n"
   ]
  }
 ],
 "metadata": {
  "kernelspec": {
   "display_name": "Python 3",
   "language": "python",
   "name": "python3"
  },
  "language_info": {
   "codemirror_mode": {
    "name": "ipython",
    "version": 2
   },
   "file_extension": ".py",
   "mimetype": "text/x-python",
   "name": "python",
   "nbconvert_exporter": "python",
   "pygments_lexer": "ipython2",
   "version": "2.7.6"
  }
 },
 "nbformat": 4,
 "nbformat_minor": 0
}